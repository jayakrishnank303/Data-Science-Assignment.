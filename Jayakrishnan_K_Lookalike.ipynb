{
  "nbformat": 4,
  "nbformat_minor": 0,
  "metadata": {
    "colab": {
      "provenance": []
    },
    "kernelspec": {
      "name": "python3",
      "display_name": "Python 3"
    },
    "language_info": {
      "name": "python"
    }
  },
  "cells": [
    {
      "cell_type": "code",
      "execution_count": 2,
      "metadata": {
        "colab": {
          "base_uri": "https://localhost:8080/"
        },
        "id": "79RvokfoPkCV",
        "outputId": "24e2ca0d-df54-43ad-aba5-e521a4708674"
      },
      "outputs": [
        {
          "output_type": "stream",
          "name": "stdout",
          "text": [
            "Lookalike model completed. Results saved to Lookalike.csv.\n"
          ]
        }
      ],
      "source": [
        "# Import libraries\n",
        "import pandas as pd\n",
        "from sklearn.preprocessing import StandardScaler\n",
        "from sklearn.metrics.pairwise import cosine_similarity\n",
        "\n",
        "# Load datasets\n",
        "customers = pd.read_csv('Customers.csv')\n",
        "products = pd.read_csv('Products.csv')\n",
        "transactions = pd.read_csv('Transactions.csv')\n",
        "\n",
        "# Merge datasets\n",
        "merged_data = pd.merge(transactions, customers, on='CustomerID')\n",
        "merged_data = pd.merge(merged_data, products, on='ProductID')\n",
        "\n",
        "# Feature engineering\n",
        "customer_features = merged_data.groupby('CustomerID').agg({\n",
        "    'TotalValue': 'sum',\n",
        "    'Quantity': 'mean',\n",
        "    'Category': lambda x: x.mode()[0],  # Most frequent category\n",
        "    'Region': 'first'  # Region is the same for a customer\n",
        "}).reset_index()\n",
        "\n",
        "# One-hot encode categorical features\n",
        "encoded_features = pd.get_dummies(customer_features, columns=['Category', 'Region'])\n",
        "\n",
        "# Normalize numerical features\n",
        "scaler = StandardScaler()\n",
        "normalized_features = scaler.fit_transform(encoded_features.drop('CustomerID', axis=1))\n",
        "\n",
        "# Compute similarity\n",
        "similarity_matrix = cosine_similarity(normalized_features)\n",
        "\n",
        "# Recommend top 3 similar customers for the first 20 customers\n",
        "similar_customers = {}\n",
        "for i in range(20):  # Adjust range as needed\n",
        "    customer_id = customer_features.iloc[i]['CustomerID']\n",
        "    similarities = list(enumerate(similarity_matrix[i]))\n",
        "    sorted_similarities = sorted(similarities, key=lambda x: x[1], reverse=True)[1:4]  # Exclude self\n",
        "    similar_customers[customer_id] = [(customer_features.iloc[j]['CustomerID'], score) for j, score in sorted_similarities]\n",
        "\n",
        "# Save recommendations to a CSV\n",
        "lookalike_df = pd.DataFrame({\n",
        "    'CustomerID': similar_customers.keys(),\n",
        "    'Similar_Customers': [str(v) for v in similar_customers.values()]\n",
        "})\n",
        "lookalike_df.to_csv('Lookalike.csv', index=False)\n",
        "\n",
        "print(\"Lookalike model completed. Results saved to Lookalike.csv.\")\n"
      ]
    }
  ]
}